{
 "cells": [
  {
   "cell_type": "code",
   "execution_count": 49,
   "metadata": {},
   "outputs": [],
   "source": [
    "from skimage import io\n",
    "from skimage.filters import (threshold_niblack, threshold_sauvola, threshold_otsu)\n",
    "\n",
    "\n",
    "input_image = '/home/jamal/Documents/internship/cache/P9.bmp'\n",
    "\n",
    "image_color = io.imread(input_image)\n",
    "# io.imshow(image_color)\n",
    "# io.show()\n",
    "\n",
    "image_gray = io.imread(input_image, as_gray=True)\n",
    "# io.imshow(image_gray)\n",
    "# io.show()\n",
    "\n",
    "# image_gray = img_as_ubyte(image_gray)\n",
    "# # io.imsave('/home/jamal/Documents/internship/images/scikit_gray.png', image_gray)\n",
    "\n",
    "\n",
    "\n",
    "\n"
   ]
  },
  {
   "cell_type": "code",
   "execution_count": 45,
   "metadata": {},
   "outputs": [
    {
     "name": "stderr",
     "output_type": "stream",
     "text": [
      "/tmp/ipykernel_1153/211444945.py:8: UserWarning: /home/jamal/Documents/internship/images/scikit_sauvola.png is a boolean image: setting True to 255 and False to 0. To silence this warning, please convert the image using img_as_ubyte.\n",
      "  io.imsave('/home/jamal/Documents/internship/images/scikit_sauvola.png', thresh)\n"
     ]
    }
   ],
   "source": [
    "window_size = 25\n",
    "thresh = threshold_sauvola(image_gray, window_size=window_size, k=-0.2)\n",
    "\n",
    "thresh = image_gray > thresh\n",
    "\n",
    "# io.imshow(thresh)\n",
    "# io.show()\n",
    "io.imsave('/home/jamal/Documents/internship/images/scikit_sauvola.png', thresh)\n"
   ]
  },
  {
   "cell_type": "code",
   "execution_count": 47,
   "metadata": {},
   "outputs": [
    {
     "name": "stderr",
     "output_type": "stream",
     "text": [
      "/tmp/ipykernel_1153/1358261538.py:8: UserWarning: /home/jamal/Documents/internship/images/scikit_niblack.png is a boolean image: setting True to 255 and False to 0. To silence this warning, please convert the image using img_as_ubyte.\n",
      "  io.imsave('/home/jamal/Documents/internship/images/scikit_niblack.png', thresh)\n"
     ]
    }
   ],
   "source": [
    "window_size = 15\n",
    "thresh = threshold_niblack(image_gray, window_size=window_size, k=-0.2)\n",
    "\n",
    "thresh = image_gray > thresh\n",
    "\n",
    "# io.imshow(thresh)\n",
    "# io.show()\n",
    "io.imsave('/home/jamal/Documents/internship/images/scikit_niblack.png', thresh)\n"
   ]
  },
  {
   "cell_type": "code",
   "execution_count": 50,
   "metadata": {},
   "outputs": [
    {
     "name": "stderr",
     "output_type": "stream",
     "text": [
      "/tmp/ipykernel_1153/225836442.py:8: UserWarning: /home/jamal/Documents/internship/cache/scikit_otsu_2.png is a boolean image: setting True to 255 and False to 0. To silence this warning, please convert the image using img_as_ubyte.\n",
      "  io.imsave('/home/jamal/Documents/internship/cache/scikit_otsu_2.png', thresh)\n"
     ]
    }
   ],
   "source": [
    "\n",
    "window_size = 51\n",
    "thresh = threshold_otsu(image_gray, window_size)\n",
    "\n",
    "thresh = image_gray > thresh\n",
    "\n",
    "# io.imshow(thresh)\n",
    "# io.show()\n",
    "io.imsave('/home/jamal/Documents/internship/cache/scikit_otsu_2.png', thresh)\n"
   ]
  }
 ],
 "metadata": {
  "interpreter": {
   "hash": "dd0112ae7a33832acf0526db01c58c787740d1e89f6d305f05770dcd96dd8477"
  },
  "kernelspec": {
   "display_name": "Python 3.9.12 ('base')",
   "language": "python",
   "name": "python3"
  },
  "language_info": {
   "codemirror_mode": {
    "name": "ipython",
    "version": 3
   },
   "file_extension": ".py",
   "mimetype": "text/x-python",
   "name": "python",
   "nbconvert_exporter": "python",
   "pygments_lexer": "ipython3",
   "version": "3.9.12"
  },
  "orig_nbformat": 4
 },
 "nbformat": 4,
 "nbformat_minor": 2
}
