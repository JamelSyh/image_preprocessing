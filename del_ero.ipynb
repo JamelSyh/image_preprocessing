{
 "cells": [
  {
   "cell_type": "code",
   "execution_count": null,
   "metadata": {},
   "outputs": [],
   "source": [
    "import cv2\n",
    "import numpy as np\n",
    "\n",
    "\n",
    "def path(name):\n",
    "    return \"./del_ero/{}.png\".format(name)\n",
    "\n",
    "\n",
    "def show(img):\n",
    "    cv2.imshow(\"img\", img)\n",
    "    cv2.waitKey(0)\n",
    "    cv2.destroyAllWindows()\n",
    "\n",
    "\n",
    "def read(img):\n",
    "    image_path = path(img)\n",
    "    image = cv2.imread(image_path)\n",
    "    return image\n",
    "\n",
    "\n",
    "def write(img, name):\n",
    "    image_path = path(name)\n",
    "    cv2.imwrite(image_path, img)\n",
    "\n",
    "\n",
    "def readShow(img):\n",
    "    image = read(img)\n",
    "    show(image)\n",
    "    return image\n",
    "\n",
    "\n",
    "def writeShow(img, name):\n",
    "    write(img, name)\n",
    "    show(img)\n",
    "\n",
    "\n",
    "im = read(\"image\")\n",
    "gim = read(\"gray_image\")\n"
   ]
  },
  {
   "cell_type": "code",
   "execution_count": null,
   "metadata": {},
   "outputs": [],
   "source": [
    "# del implementation\n",
    "\n",
    "def dilation(im, box_size):\n",
    "    filter = np.ones((box_size, box_size))\n",
    "    S = im.shape\n",
    "    F = filter.shape\n",
    "    image = im / 255\n",
    "    padded_img = np.pad(image, 1, \"symmetric\")\n",
    "\n",
    "    for i in range(S[0]):\n",
    "        for j in range(S[1]):\n",
    "            k = padded_img[i: i+F[0], j: j+F[1]]\n",
    "            result = (k == filter)\n",
    "            final = np.all(result == True)\n",
    "            if final:\n",
    "                image[i, j] = 255\n",
    "            else:\n",
    "                image[i, j] = 0\n",
    "    return image\n",
    "\n",
    "\n",
    "\n",
    "kernel1 = np.ones((5, 5), np.uint8)\n",
    "kernel2 = np.ones((5, 5), np.uint8)\n",
    "\n",
    "\n",
    "# The first parameter is the origimorphologyExnal image,\n",
    "# kernel is the matrix with which image is\n",
    "# convolved and third parameter is the number\n",
    "# of iterations, which will determine how much\n",
    "# you want to erode/dilate a given image.\n",
    "img_dilation = cv2.dilate(gim, kernel1, iterations=1)\n",
    "img_erosion = cv2.erode(gim, kernel2, iterations=1)\n"
   ]
  }
 ],
 "metadata": {
  "interpreter": {
   "hash": "dd0112ae7a33832acf0526db01c58c787740d1e89f6d305f05770dcd96dd8477"
  },
  "kernelspec": {
   "display_name": "Python 3.9.12 ('base')",
   "language": "python",
   "name": "python3"
  },
  "language_info": {
   "codemirror_mode": {
    "name": "ipython",
    "version": 3
   },
   "file_extension": ".py",
   "mimetype": "text/x-python",
   "name": "python",
   "nbconvert_exporter": "python",
   "pygments_lexer": "ipython3",
   "version": "3.9.12"
  },
  "orig_nbformat": 4
 },
 "nbformat": 4,
 "nbformat_minor": 2
}
