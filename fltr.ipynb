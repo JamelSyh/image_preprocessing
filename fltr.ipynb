{
 "cells": [
  {
   "cell_type": "code",
   "execution_count": 1,
   "metadata": {},
   "outputs": [],
   "source": [
    "import cv2\n",
    "import numpy as np\n",
    "\n",
    "\n",
    "def path(name):\n",
    "    return \"./fltr_imgs/{}.png\".format(name)\n",
    "\n",
    "\n",
    "def show(img):\n",
    "    cv2.imshow(\"img\", img)\n",
    "    cv2.waitKey(0)\n",
    "    cv2.destroyAllWindows()\n",
    "\n",
    "\n",
    "def read(img):\n",
    "    image_path = path(img)\n",
    "    image = cv2.imread(image_path)\n",
    "    return image\n",
    "\n",
    "\n",
    "def write(img, name):\n",
    "    image_path = path(name)\n",
    "    cv2.imwrite(image_path, img)\n",
    "\n",
    "\n",
    "def readShow(img):\n",
    "    image = read(img)\n",
    "    show(image)\n",
    "    return image\n",
    "\n",
    "\n",
    "def writeShow(img, name):\n",
    "    write(img, name)\n",
    "    show(img)\n",
    "\n",
    "\n",
    "im = read(\"image\")\n",
    "gim = read(\"gray_image\")\n"
   ]
  },
  {
   "cell_type": "markdown",
   "metadata": {},
   "source": [
    "sobel"
   ]
  },
  {
   "cell_type": "code",
   "execution_count": 2,
   "metadata": {},
   "outputs": [],
   "source": [
    "sobel_x = cv2.Sobel(gim,cv2.CV_64F,1,0,ksize=3)\n",
    "sobel_y = cv2.Sobel(gim,cv2.CV_64F,0,1,ksize=3)\n",
    "sobel_x=np.uint8(np.absolute(sobel_x))\n",
    "sobel_y=np.uint8(np.absolute(sobel_y))\n",
    "\n",
    "sobel_result = cv2.bitwise_or(sobel_x,sobel_y)"
   ]
  },
  {
   "cell_type": "markdown",
   "metadata": {},
   "source": [
    "Laplacian"
   ]
  },
  {
   "cell_type": "code",
   "execution_count": 3,
   "metadata": {},
   "outputs": [],
   "source": [
    "blur = cv2.GaussianBlur(gim,(13,13),0)\n",
    "lap = cv2.Laplacian(blur,cv2.CV_64F,ksize=5)\n",
    "\n",
    "laplacian_result=np.uint8(np.absolute(lap))"
   ]
  },
  {
   "cell_type": "markdown",
   "metadata": {},
   "source": [
    "canny"
   ]
  },
  {
   "cell_type": "code",
   "execution_count": 4,
   "metadata": {},
   "outputs": [],
   "source": [
    "canny_result = cv2.Canny(gim, 80, 100)"
   ]
  },
  {
   "cell_type": "markdown",
   "metadata": {},
   "source": [
    "blur"
   ]
  },
  {
   "cell_type": "code",
   "execution_count": 5,
   "metadata": {},
   "outputs": [],
   "source": [
    "# medianBlur\n",
    "medianBlur_result = cv2.medianBlur(gim, 5)\n",
    "\n",
    "# GaussianBlur\n",
    "GaussianBlur_result = cv2.GaussianBlur(gim, (5, 5), 0)"
   ]
  }
 ],
 "metadata": {
  "interpreter": {
   "hash": "dd0112ae7a33832acf0526db01c58c787740d1e89f6d305f05770dcd96dd8477"
  },
  "kernelspec": {
   "display_name": "Python 3.9.12 ('base')",
   "language": "python",
   "name": "python3"
  },
  "language_info": {
   "codemirror_mode": {
    "name": "ipython",
    "version": 3
   },
   "file_extension": ".py",
   "mimetype": "text/x-python",
   "name": "python",
   "nbconvert_exporter": "python",
   "pygments_lexer": "ipython3",
   "version": "3.9.12"
  },
  "orig_nbformat": 4
 },
 "nbformat": 4,
 "nbformat_minor": 2
}
